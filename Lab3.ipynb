{
 "cells": [
  {
   "cell_type": "markdown",
   "id": "089d5e06-9beb-43ed-84be-3bead8c58f93",
   "metadata": {},
   "source": [
    "## Tarea: Implementación del Algoritmo Minimax en Juegos de Árboles\n",
    "\n",
    "### Objetivo\n",
    "Implementar el algoritmo Minimax para un juego simple de árboles.\n",
    "\n",
    "### Instrucciones\n",
    "Completa las siguientes celdas de código para implementar el algoritmo Minimax y probarlo en el juego dado."
   ]
  },
  {
   "cell_type": "code",
   "execution_count": 6,
   "id": "deadbb02-8286-4c2f-b15d-c0b58a10fef0",
   "metadata": {},
   "outputs": [],
   "source": [
    "### Código Inicial\n",
    "class TreeNode:\n",
    "    def __init__(self, value, children=None):\n",
    "        self.value = value\n",
    "        self.children = children if children is not None else []\n",
    "\n",
    "def minimax(node, is_maximizing_player):\n",
    "    if not node.children:  # nodo hoja\n",
    "        return node.value\n",
    "    if is_maximizing_player:\n",
    "        best_value = float('-inf')\n",
    "        for child in node.children:\n",
    "            value = minimax(child, False)\n",
    "            best_value = max(best_value, value)\n",
    "        return best_value\n",
    "    else:\n",
    "        best_value = float('inf')\n",
    "        for child in node.children:\n",
    "            value = minimax(child, True)\n",
    "            best_value = min(best_value, value)\n",
    "        return best_value"
   ]
  },
  {
   "cell_type": "code",
   "execution_count": 8,
   "id": "12558ebe-43f2-4a41-a912-ad288390ee8a",
   "metadata": {},
   "outputs": [
    {
     "name": "stdout",
     "output_type": "stream",
     "text": [
      "El valor óptimo es: 3\n"
     ]
    }
   ],
   "source": [
    "# Ejemplo de un árbol de juego\n",
    "root = TreeNode(0, [\n",
    "    TreeNode(3),\n",
    "    TreeNode(5, [\n",
    "        TreeNode(6),\n",
    "        TreeNode(9),\n",
    "        TreeNode(1)\n",
    "    ]),\n",
    "    TreeNode(-2, [\n",
    "        TreeNode(7),\n",
    "        TreeNode(-3),\n",
    "        TreeNode(4)\n",
    "    ])\n",
    "])\n",
    "\n",
    "# Prueba del algoritmo Minimax\n",
    "optimal_value = minimax(root, True)\n",
    "print(\"El valor óptimo es:\", optimal_value)"
   ]
  }
 ],
 "metadata": {
  "kernelspec": {
   "display_name": "Python 3 (ipykernel)",
   "language": "python",
   "name": "python3"
  },
  "language_info": {
   "codemirror_mode": {
    "name": "ipython",
    "version": 3
   },
   "file_extension": ".py",
   "mimetype": "text/x-python",
   "name": "python",
   "nbconvert_exporter": "python",
   "pygments_lexer": "ipython3",
   "version": "3.12.4"
  }
 },
 "nbformat": 4,
 "nbformat_minor": 5
}
